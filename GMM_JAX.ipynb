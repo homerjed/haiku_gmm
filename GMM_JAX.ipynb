{
  "nbformat": 4,
  "nbformat_minor": 0,
  "metadata": {
    "colab": {
      "name": "GMM_JAX.ipynb",
      "provenance": [],
      "collapsed_sections": []
    },
    "kernelspec": {
      "name": "python3",
      "display_name": "Python 3"
    },
    "language_info": {
      "name": "python"
    }
  },
  "cells": [
    {
      "cell_type": "markdown",
      "source": [
        "# `haiku` Gaussian Mixture Model (GMM)"
      ],
      "metadata": {
        "id": "beeyVYi-GSKW"
      }
    },
    {
      "cell_type": "code",
      "source": [
        "!pip install --quiet dm-haiku distrax chex optax watermark"
      ],
      "metadata": {
        "id": "hPmHrkh-Fgos"
      },
      "execution_count": 12,
      "outputs": []
    },
    {
      "cell_type": "code",
      "source": [
        "import jax\n",
        "import jax.numpy as jnp\n",
        "import jax.random as random\n",
        "import haiku as hk\n",
        "import distrax\n",
        "import optax\n",
        "from chex import Array, PRNGKey\n",
        "from typing import (\n",
        "        Any, Optional, Sequence, Tuple, Dict)\n",
        "from functools import partial\n",
        "\n",
        "import numpy as np # for np.prod >: (\n",
        "\n",
        "OptState = Any"
      ],
      "metadata": {
        "id": "aeCcVVV3Giwp"
      },
      "execution_count": 15,
      "outputs": []
    },
    {
      "cell_type": "code",
      "source": [
        "import watermark.watermark as watermark\n",
        "print(watermark(iversions=True, globals_=globals()))"
      ],
      "metadata": {
        "colab": {
          "base_uri": "https://localhost:8080/"
        },
        "id": "8m5cH_QPPcUk",
        "outputId": "d449ed92-faad-4e7c-dda5-6f916be2c042"
      },
      "execution_count": 18,
      "outputs": [
        {
          "output_type": "stream",
          "name": "stdout",
          "text": [
            "numpy     : 1.21.6\n",
            "matplotlib: 3.2.2\n",
            "jax       : 0.3.14\n",
            "distrax   : 0.1.2\n",
            "haiku     : 0.0.7\n",
            "optax     : 0.1.3\n",
            "IPython   : 5.5.0\n",
            "\n"
          ]
        }
      ]
    },
    {
      "cell_type": "markdown",
      "source": [
        "## Model"
      ],
      "metadata": {
        "id": "_uyp6kPqGtud"
      }
    },
    {
      "cell_type": "code",
      "source": [
        "class GMM(hk.Module):\n",
        "    \"\"\" Gaussian Mixture Model.\n",
        "        Learns distribution of mixture of 'n_components' Gaussians parameterised\n",
        "        by neural nets self.mu, self.sigma \n",
        "    \"\"\"\n",
        "\n",
        "    def __init__(\n",
        "            self,\n",
        "            # Simulation / parameter shapes\n",
        "            event_shape: Sequence[int],\n",
        "            context_shape: Sequence[int],\n",
        "            # Number of independent Gaussians to use\n",
        "            n_components: int,\n",
        "            # Hidden units in parameterizations of means, sigams\n",
        "            hidden_sizes: Sequence[int]):\n",
        "        super().__init__()\n",
        "        # GMM target variable definitions\n",
        "        self.event_shape = event_shape\n",
        "        self.context_shape = context_shape\n",
        "\n",
        "        # GMM outputs n_component different (weight, mu, sigma) tuples\n",
        "        self.n_components = n_components\n",
        "        self.hidden_sizes = hidden_sizes + [self.n_components]\n",
        "        net_kwargs = {\n",
        "                \"event_shape\" : self.event_shape, \n",
        "                \"context_shape\" : self.context_shape,\n",
        "                \"n_components\" : self.n_components,\n",
        "                \"hidden_sizes\" : self.hidden_sizes}\n",
        "\n",
        "        # GMM component nets \n",
        "        self.alpha = hk.nets.MLP(\n",
        "            self.hidden_sizes,\n",
        "            activate_final=True,\n",
        "            activation=jax.nn.softmax)\n",
        "\n",
        "        out_dim = [n_components * np.prod(self.context_shape)]\n",
        "        self.mu = hk.nets.MLP(\n",
        "            self.hidden_sizes + out_dim, \n",
        "            activate_final=True,\n",
        "            activation=lambda x: x)\n",
        "        self.sigma = hk.nets.MLP(\n",
        "            self.hidden_sizes + out_dim,\n",
        "            activate_final=True,\n",
        "            activation=jax.nn.softmax)\n",
        "\n",
        "\n",
        "    def __call__(self, parameters: Array) -> distrax.Distribution:\n",
        "        # Component weights\n",
        "        alphas = self.alpha(parameters).reshape(-1, self.n_components)\n",
        "        # Means and sigmas\n",
        "        out_shape = (self.n_components, ) + self.context_shape\n",
        "        means = self.mu(parameters).reshape(-1, *out_shape) \n",
        "        sigmas = self.sigma(parameters).reshape(-1, *out_shape) \n",
        "\n",
        "        # GMM defined as a distribution. Mixture of neurally parameterised Gaussians.\n",
        "        weights_dist = distrax.Categorical(probs=alphas) # alpha outputs 'n_components' weights\n",
        "        components_dist = distrax.Normal(loc=means, scale=sigmas)\n",
        "        \n",
        "        if 0:\n",
        "          print(\"alphas, means, sigmas\")\n",
        "          print(alphas.shape, means.shape, sigmas.shape)\n",
        "    \n",
        "        # Multidimensional version of the components distribution\n",
        "        components_dist = distrax.MultivariateNormalDiag(\n",
        "                loc=means, scale_diag=sigmas)\n",
        "        \n",
        "        gmm = distrax.MixtureSameFamily(\n",
        "                mixture_distribution=weights_dist,\n",
        "                components_distribution=components_dist)\n",
        "        return gmm\n",
        "\n",
        "\n",
        "    def log_prob(self, value: Array, context: Array) -> Array:\n",
        "        return self.__call__(context).log_prob(value)"
      ],
      "metadata": {
        "id": "fVzRPi9LLH4V"
      },
      "execution_count": 5,
      "outputs": []
    },
    {
      "cell_type": "markdown",
      "source": [
        "## Training functions"
      ],
      "metadata": {
        "id": "ldHRl2hQGp47"
      }
    },
    {
      "cell_type": "code",
      "source": [
        "def make_gmm_model(**nde_kwargs):\n",
        "    model = GMM(**nde_kwargs)\n",
        "    return model\n",
        "\n",
        "@hk.without_apply_rng\n",
        "@hk.transform\n",
        "def log_prob(\n",
        "        # NDE args\n",
        "        nde_args: Dict,\n",
        "        # inputs\n",
        "        simulations: Array,\n",
        "        parameters: Array,\n",
        "        pdfs: Optional[Array] = None) -> Array:\n",
        "    \"\"\" Log probability of arbitrary NDE distribution. \"\"\"\n",
        "    model = make_gmm_model(**nde_args)\n",
        "    return model.log_prob(value=simulations, context=parameters)\n",
        "\n",
        "\n",
        "def loss_fn(\n",
        "        params: hk.Params,\n",
        "        nde_args: Dict,\n",
        "        simulations: Array,\n",
        "        parameters: Array,\n",
        "        pdfs: Optional[Array] = None) -> Array:\n",
        "    log_probs = log_prob.apply(\n",
        "            params,\n",
        "            nde_args,\n",
        "            simulations=simulations,\n",
        "            parameters=parameters,\n",
        "            pdfs=pdfs)\n",
        "    if pdfs is not None:\n",
        "        loss = jnp.square(jnp.square(pdfs, log_probs)).mean()\n",
        "    else:\n",
        "        loss = -log_probs.mean()\n",
        "    return loss, log_probs\n",
        "\n",
        "\n",
        "@partial(jax.jit, static_argnums=(2, 3))\n",
        "def update(\n",
        "        # training\n",
        "        params: hk.Params,\n",
        "        opt_state: OptState,\n",
        "        optimizer: optax.GradientTransformation, # => one for each NDE \n",
        "        # NDE args\n",
        "        nde_args: Dict,\n",
        "        # inputs\n",
        "        simulations: Array,\n",
        "        parameters: Array,\n",
        "        pdfs: Optional[Array] = None) -> Tuple[hk.Params, OptState, Array, Array]:\n",
        "    \"\"\" Run a single training step to update the model. \"\"\"\n",
        "    (loss, log_probs), grads = jax.value_and_grad(loss_fn, has_aux=True)(\n",
        "            params,\n",
        "            nde_args=nde_args,\n",
        "            simulations=simulations,\n",
        "            parameters=parameters,\n",
        "            pdfs=pdfs)\n",
        "    updates, new_opt_state = optimizer.update(grads, opt_state)\n",
        "    new_params = optax.apply_updates(params, updates)\n",
        "    return new_params, new_opt_state, loss, log_probs\n",
        "\n",
        "\n",
        "@partial(jax.jit, static_argnums=1)\n",
        "def eval_fn(\n",
        "        params: hk.Params,\n",
        "\t\t    # nde args \n",
        "        nde_args: Dict,\n",
        "        # inputs\n",
        "        simulations: Array,\n",
        "        parameters: Array,\n",
        "        pdfs: Optional[Array] = None) -> Tuple[Array, Array]:\n",
        "    log_probs = log_prob.apply(\n",
        "\t\t\t    params, \n",
        "          # nde args\n",
        "          nde_args=nde_args,\n",
        "\t\t\t    # inputs\n",
        "          simulations=simulations, \n",
        "          parameters=parameters,\n",
        "          pdfs=pdfs)\n",
        "    if pdfs is not None:\n",
        "        loss = jnp.square(jnp.subtract(pdfs, log_probs)).mean()\n",
        "    else:\n",
        "        loss = -log_probs.mean()\n",
        "    return loss, log_probs\n"
      ],
      "metadata": {
        "id": "OfDFA3MtGXZg"
      },
      "execution_count": 6,
      "outputs": []
    },
    {
      "cell_type": "markdown",
      "source": [
        "## Run training"
      ],
      "metadata": {
        "id": "PVF80DERG2My"
      }
    },
    {
      "cell_type": "code",
      "source": [
        "import matplotlib.pyplot as plt \n",
        "\n",
        "prng_seq = hk.PRNGSequence(0)\n",
        "\n",
        "# dimensionality of random variable\n",
        "n_dims = 3\n",
        "\n",
        "# Get some toy data with labels based on points quadrant: positive or negative\n",
        "X = jax.random.normal(next(prng_seq), (1000, n_dims))\n",
        "Y = jax.scipy.stats.multivariate_normal.logpdf(X, mean=jnp.zeros(n_dims), cov=jnp.eye(n_dims))\n",
        "Y = jnp.ones(X.shape)\n",
        "Y = Y.at[X < 0.0,...].set(0.0)\n",
        "X_ = jax.random.normal(next(prng_seq), (1000, n_dims))\n",
        "Y_ = jax.scipy.stats.multivariate_normal.logpdf(X, mean=jnp.zeros(n_dims), cov=jnp.eye(n_dims))\n",
        "Y_ = jnp.ones(X_.shape)\n",
        "Y_ = Y_.at[X_ < 0.0,...].set(0.0) \n",
        "\n",
        "print(\"DATA:\")\n",
        "print(\"X\", X.shape)\n",
        "print(\"Y\", Y.shape)\n",
        "\n",
        "nde_kwargs = {\n",
        "        \"context_shape\" : (n_dims,),\n",
        "        \"event_shape\" : (n_dims,),\n",
        "        \"n_components\" : 5,\n",
        "        \"hidden_sizes\" : [32, 16, 8]} # n_components output shape added within GMM class\n",
        "\n",
        "print(\"GMM model with specifciation:\\n\", nde_kwargs)\n",
        "\n",
        "nde_kwargs = hk.data_structures.to_immutable_dict(nde_kwargs)\n",
        "\n",
        "optim = optax.adam(0.001)\n",
        "params = log_prob.init(\n",
        "        next(prng_seq), \n",
        "        nde_args=nde_kwargs,\n",
        "        simulations=X[:3],\n",
        "        parameters=Y[:3],\n",
        "        pdfs=None)\n",
        "opt_state = optim.init(params)\n",
        "\n",
        "batch_size = 128\n",
        "n_steps = 10000\n",
        "train_losses = []\n",
        "val_losses = []\n",
        "for i in range(n_steps):\n",
        "    # prepare random batch\n",
        "    idx = random.choice(next(prng_seq), jnp.arange(len(X)), (batch_size,))\n",
        "    x, y = X[idx], Y[idx]     # train\n",
        "    x_, y_ = X_[idx], Y_[idx] # valid\n",
        "\n",
        "    (\n",
        "        params, \n",
        "        opt_state, \n",
        "        train_loss, \n",
        "        train_log_probs\n",
        "    ) = update(\n",
        "            params, \n",
        "            opt_state=opt_state, \n",
        "            optimizer=optim, \n",
        "            nde_args=nde_kwargs, \n",
        "            simulations=x, \n",
        "            parameters=y)\n",
        "    \n",
        "    val_loss, val_log_probs = eval_fn(\n",
        "            params, \n",
        "            nde_args=nde_kwargs, \n",
        "            simulations=x_, \n",
        "            parameters=y_)\n",
        "    \n",
        "    val_losses.append(val_loss)\n",
        "    train_losses.append(train_loss)\n",
        "    if i % 100 == 0:\n",
        "        print(f\"\\rStep={i + 100}/{n_steps} train={train_loss:.3f} val={val_loss:.3f}\", end=\"\")"
      ],
      "metadata": {
        "colab": {
          "base_uri": "https://localhost:8080/"
        },
        "id": "jS07KqtxG8Iy",
        "outputId": "d87e0305-7602-49d3-f4b0-01e425a01e13"
      },
      "execution_count": 7,
      "outputs": [
        {
          "output_type": "stream",
          "name": "stderr",
          "text": [
            "WARNING:absl:No GPU/TPU found, falling back to CPU. (Set TF_CPP_MIN_LOG_LEVEL=0 and rerun for more info.)\n"
          ]
        },
        {
          "output_type": "stream",
          "name": "stdout",
          "text": [
            "DATA:\n",
            "X (1000, 3)\n",
            "Y (1000, 3)\n",
            "GMM model with specifciation:\n",
            " {'context_shape': (3,), 'event_shape': (3,), 'n_components': 5, 'hidden_sizes': [32, 16, 8]}\n",
            "Step=9900/10000 train=4.522 val=4.224"
          ]
        }
      ]
    },
    {
      "cell_type": "code",
      "source": [
        "# 5 is arbitrary batch size\n",
        "x = jax.random.normal(next(prng_seq), (5, ) + (n_dims,))\n",
        "y = jax.random.uniform(next(prng_seq), (5, ) + (n_dims,)) \n",
        "p = log_prob.apply(\n",
        "    params, nde_kwargs, simulations=x, parameters=y)\n",
        "print(p, p.shape)"
      ],
      "metadata": {
        "colab": {
          "base_uri": "https://localhost:8080/"
        },
        "id": "nYC9eRppSqxP",
        "outputId": "b6a755c9-c226-401c-feed-dbe341ed8848"
      },
      "execution_count": 8,
      "outputs": [
        {
          "output_type": "stream",
          "name": "stdout",
          "text": [
            "[-12.44873  -12.423923  -1.100054 -56.732246 -20.170458] (5,)\n"
          ]
        }
      ]
    },
    {
      "cell_type": "markdown",
      "source": [
        "### Show losses"
      ],
      "metadata": {
        "id": "IvZiBYd7HDGP"
      }
    },
    {
      "cell_type": "code",
      "source": [
        "plt.figure(dpi=120)\n",
        "plt.title(\"Gaussian Mixture Model\")\n",
        "plt.ylabel(r\"$L$\")\n",
        "plt.xlabel(r\"step $s$\")\n",
        "plt.plot(train_losses)\n",
        "plt.plot(val_losses)\n",
        "plt.show()"
      ],
      "metadata": {
        "colab": {
          "base_uri": "https://localhost:8080/",
          "height": 485
        },
        "id": "vvGkK8TkPZxD",
        "outputId": "08082086-4f57-49c4-89ad-c11a6341b475"
      },
      "execution_count": 9,
      "outputs": [
        {
          "output_type": "display_data",
          "data": {
            "text/plain": [
              "<Figure size 720x480 with 1 Axes>"
            ],
            "image/png": "[encoded data removed]"
          },
          "metadata": {
            "needs_background": "light"
          }
        }
      ]
    },
    {
      "cell_type": "code",
      "source": [
        "# You didn't see this coming!\n",
        "1. - jnp.inf"
      ],
      "metadata": {
        "colab": {
          "base_uri": "https://localhost:8080/"
        },
        "id": "yV1Mt9q-yUPj",
        "outputId": "cd4a5233-13e0-441c-98d5-f5e9ecbce481"
      },
      "execution_count": 10,
      "outputs": [
        {
          "output_type": "execute_result",
          "data": {
            "text/plain": [
              "-inf"
            ]
          },
          "metadata": {},
          "execution_count": 10
        }
      ]
    }
  ]
}